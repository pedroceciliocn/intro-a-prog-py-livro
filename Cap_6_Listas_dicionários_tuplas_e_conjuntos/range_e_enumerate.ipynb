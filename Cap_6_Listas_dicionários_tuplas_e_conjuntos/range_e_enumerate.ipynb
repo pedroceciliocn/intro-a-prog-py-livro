{
 "metadata": {
  "language_info": {
   "codemirror_mode": {
    "name": "ipython",
    "version": 3
   },
   "file_extension": ".py",
   "mimetype": "text/x-python",
   "name": "python",
   "nbconvert_exporter": "python",
   "pygments_lexer": "ipython3",
   "version": "3.9.1"
  },
  "orig_nbformat": 4,
  "kernelspec": {
   "name": "python3",
   "display_name": "Python 3.9.1 64-bit"
  },
  "interpreter": {
   "hash": "58a2afdd84b3d6a99630bac0f864ef75313b28ee9d52d502804b7fcd307520dc"
  }
 },
 "nbformat": 4,
 "nbformat_minor": 2,
 "cells": [
  {
   "cell_type": "markdown",
   "source": [
    "## 6.10 Range"
   ],
   "metadata": {}
  },
  {
   "cell_type": "code",
   "execution_count": 1,
   "source": [
    "for v in range(10):\r\n",
    "    print(v)"
   ],
   "outputs": [
    {
     "output_type": "stream",
     "name": "stdout",
     "text": [
      "0\n",
      "1\n",
      "2\n",
      "3\n",
      "4\n",
      "5\n",
      "6\n",
      "7\n",
      "8\n",
      "9\n"
     ]
    }
   ],
   "metadata": {}
  },
  {
   "cell_type": "code",
   "execution_count": 2,
   "source": [
    "for v in range(5, 8):\r\n",
    "    print(v)"
   ],
   "outputs": [
    {
     "output_type": "stream",
     "name": "stdout",
     "text": [
      "5\n",
      "6\n",
      "7\n"
     ]
    }
   ],
   "metadata": {}
  },
  {
   "cell_type": "code",
   "execution_count": 8,
   "source": [
    "for t in range(3, 33, 3):\r\n",
    "    print(t, end=\" \")"
   ],
   "outputs": [
    {
     "output_type": "stream",
     "name": "stdout",
     "text": [
      "3 6 9 12 15 18 21 24 27 30 "
     ]
    }
   ],
   "metadata": {}
  },
  {
   "cell_type": "markdown",
   "source": [
    "o *end=\" \"* é um parâmetro opcional do print que impede que se pule a linha depois de cada impressão."
   ],
   "metadata": {}
  },
  {
   "cell_type": "markdown",
   "source": [
    "## 6.11 Enumerate"
   ],
   "metadata": {}
  },
  {
   "cell_type": "code",
   "execution_count": 7,
   "source": [
    "L = [5, 9, 13]\r\n",
    "x = 0\r\n",
    "for e in L:\r\n",
    "    print(f\"[{x}] {e}\")\r\n",
    "    x += 1"
   ],
   "outputs": [
    {
     "output_type": "stream",
     "name": "stdout",
     "text": [
      "[0] 5\n",
      "[1] 9\n",
      "[2] 13\n"
     ]
    }
   ],
   "metadata": {}
  },
  {
   "cell_type": "markdown",
   "source": [
    "o mesmo mas usando *enumerate*"
   ],
   "metadata": {}
  },
  {
   "cell_type": "code",
   "execution_count": 5,
   "source": [
    "L = [5, 9, 13]\r\n",
    "for x, e in enumerate(L):\r\n",
    "    print(f\"[{x}] {e}\")"
   ],
   "outputs": [
    {
     "output_type": "stream",
     "name": "stdout",
     "text": [
      "[0] 5\n",
      "[1] 9\n",
      "[2] 13\n"
     ]
    }
   ],
   "metadata": {}
  },
  {
   "cell_type": "markdown",
   "source": [
    "teste comparativo"
   ],
   "metadata": {}
  },
  {
   "cell_type": "code",
   "execution_count": 4,
   "source": [
    "L = [5, 9, 13]\n",
    "for z in enumerate(L):\n",
    "    x, e = z\n",
    "    print(f\"[{x}] {e}\")\n",
    "    print(z)"
   ],
   "outputs": [
    {
     "output_type": "stream",
     "name": "stdout",
     "text": [
      "[0] 5\n",
      "(0, 5)\n",
      "[1] 9\n",
      "(1, 9)\n",
      "[2] 13\n",
      "(2, 13)\n"
     ]
    }
   ],
   "metadata": {}
  }
 ]
}