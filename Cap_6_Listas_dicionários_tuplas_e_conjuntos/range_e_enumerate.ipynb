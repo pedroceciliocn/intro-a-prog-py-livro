{
 "metadata": {
  "language_info": {
   "codemirror_mode": {
    "name": "ipython",
    "version": 3
   },
   "file_extension": ".py",
   "mimetype": "text/x-python",
   "name": "python",
   "nbconvert_exporter": "python",
   "pygments_lexer": "ipython3",
   "version": "3.9.1"
  },
  "orig_nbformat": 4,
  "kernelspec": {
   "name": "python3",
   "display_name": "Python 3.9.1 64-bit"
  },
  "interpreter": {
   "hash": "58a2afdd84b3d6a99630bac0f864ef75313b28ee9d52d502804b7fcd307520dc"
  }
 },
 "nbformat": 4,
 "nbformat_minor": 2,
 "cells": [
  {
   "source": [
    "## 6.10 Range"
   ],
   "cell_type": "markdown",
   "metadata": {}
  },
  {
   "cell_type": "code",
   "execution_count": 1,
   "metadata": {},
   "outputs": [
    {
     "output_type": "stream",
     "name": "stdout",
     "text": [
      "0\n1\n2\n3\n4\n5\n6\n7\n8\n9\n"
     ]
    }
   ],
   "source": [
    "for v in range(10):\n",
    "    print(v)"
   ]
  },
  {
   "cell_type": "code",
   "execution_count": 2,
   "metadata": {},
   "outputs": [
    {
     "output_type": "stream",
     "name": "stdout",
     "text": [
      "5\n6\n7\n"
     ]
    }
   ],
   "source": [
    "for v in range(5, 8):\n",
    "    print(v)"
   ]
  },
  {
   "source": [
    "for t in range(3, 33, 3):\n",
    "    print(t, end=\" \")"
   ],
   "cell_type": "code",
   "metadata": {},
   "execution_count": null,
   "outputs": []
  },
  {
   "source": [
    "o *end=\" \"* é um parâmetro opcional do print que impede que se pule a linha depois de cada impressão."
   ],
   "cell_type": "markdown",
   "metadata": {}
  },
  {
   "source": [
    "## 6.11 Enumerate"
   ],
   "cell_type": "markdown",
   "metadata": {}
  },
  {
   "cell_type": "code",
   "execution_count": null,
   "metadata": {},
   "outputs": [],
   "source": [
    "L = [5, 9 ,13]\n",
    "x = 0\n",
    "for e in L:\n",
    "    print(f\"[{x}] {e}\")\n",
    "    x += 1"
   ]
  },
  {
   "source": [
    "o mesmo mas usando *enumerate*"
   ],
   "cell_type": "markdown",
   "metadata": {}
  },
  {
   "cell_type": "code",
   "execution_count": null,
   "metadata": {},
   "outputs": [],
   "source": [
    "L = [5, 9, 13]\n",
    "for x, e in enumerate(L):\n",
    "    print(f\"[{x}] {e}\")"
   ]
  },
  {
   "source": [
    "teste comparativo"
   ],
   "cell_type": "markdown",
   "metadata": {}
  },
  {
   "cell_type": "code",
   "execution_count": null,
   "metadata": {},
   "outputs": [],
   "source": [
    "L = [5, 9, 13]\n",
    "for z in enumerate(L):\n",
    "    x, e = z\n",
    "    print(f\"[{x}] {e}\")\n",
    "    print(z)"
   ]
  }
 ]
}